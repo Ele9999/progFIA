{
 "cells": [
  {
   "cell_type": "code",
   "execution_count": 37,
   "metadata": {},
   "outputs": [],
   "source": [
    "import pandas as pd\n",
    "from sklearn.impute import SimpleImputer\n",
    "from sklearn.model_selection import train_test_split\n",
    "import joblib\n",
    "from sklearn.feature_selection import SelectKBest, f_classif\n",
    "from sklearn.ensemble import RandomForestClassifier\n",
    "from sklearn.metrics import accuracy_score, precision_score, recall_score, f1_score, classification_report, confusion_matrix\n",
    "from sklearn.model_selection import cross_val_score\n",
    "import matplotlib.pyplot as plt\n",
    "import numpy as np"
   ]
  },
  {
   "cell_type": "code",
   "execution_count": 38,
   "metadata": {},
   "outputs": [
    {
     "name": "stdout",
     "output_type": "stream",
     "text": [
      "Training set: (55, 249), Validation set: (12, 249), Test set: (12, 249)\n"
     ]
    }
   ],
   "source": [
    "# Caricamento del dataset\n",
    "file_path = 'data-istruzioni/Data.xlsx'\n",
    "data = pd.read_excel(file_path)\n",
    "\n",
    "# Rimozione colonne inutili\n",
    "data_cleaned = data.drop(columns=['ID'])\n",
    "\n",
    "# Suddivisione in Training, Validation e Test set prima di gestire i valori nulli\n",
    "X = data_cleaned.iloc[:, :-1]\n",
    "y = data_cleaned.iloc[:, -1]\n",
    "\n",
    "X_train, X_temp, y_train, y_temp = train_test_split(X, y, test_size=0.3, random_state=42, stratify=y)\n",
    "X_val, X_test, y_val, y_test = train_test_split(X_temp, y_temp, test_size=0.5, random_state=42, stratify=y_temp)\n",
    "\n",
    "# Gestione valori mancanti: sostituisce i NaN con la media per colonne numeriche\n",
    "numerical_imputer = SimpleImputer(strategy='mean')\n",
    "X_train = pd.DataFrame(numerical_imputer.fit_transform(X_train), columns=X_train.columns)\n",
    "X_val = pd.DataFrame(numerical_imputer.transform(X_val), columns=X_val.columns)\n",
    "X_test = pd.DataFrame(numerical_imputer.transform(X_test), columns=X_test.columns)\n",
    "\n",
    "# Verifica dimensioni dei set\n",
    "print(f\"Training set: {X_train.shape}, Validation set: {X_val.shape}, Test set: {X_test.shape}\")"
   ]
  },
  {
   "cell_type": "code",
   "execution_count": 39,
   "metadata": {},
   "outputs": [
    {
     "name": "stderr",
     "output_type": "stream",
     "text": [
      "/home/elly/miniconda3/envs/NYC/lib/python3.9/site-packages/sklearn/feature_selection/_univariate_selection.py:111: UserWarning: Features [222 223 224 234 246] are constant.\n",
      "  warnings.warn(\"Features %s are constant.\" % constant_features_idx, UserWarning)\n",
      "/home/elly/miniconda3/envs/NYC/lib/python3.9/site-packages/sklearn/feature_selection/_univariate_selection.py:112: RuntimeWarning: invalid value encountered in divide\n",
      "  f = msb / msw\n"
     ]
    },
    {
     "data": {
      "text/plain": [
       "['feature_selector.pkl']"
      ]
     },
     "execution_count": 39,
     "metadata": {},
     "output_type": "execute_result"
    }
   ],
   "source": [
    "# Selezione delle migliori 10 feature (solo sui dati di training)\n",
    "selector = SelectKBest(score_func=f_classif, k=10)\n",
    "X_train_selected = selector.fit_transform(X_train, y_train)\n",
    "\n",
    "# Trasforma anche il Validation e il Test set\n",
    "X_val_selected = selector.transform(X_val)\n",
    "X_test_selected = selector.transform(X_test)\n",
    "\n",
    "# Salva il selettore per future predizioni\n",
    "joblib.dump(selector, 'feature_selector.pkl')"
   ]
  },
  {
   "cell_type": "code",
   "execution_count": 40,
   "metadata": {},
   "outputs": [
    {
     "data": {
      "text/plain": [
       "['final_model.pkl']"
      ]
     },
     "execution_count": 40,
     "metadata": {},
     "output_type": "execute_result"
    }
   ],
   "source": [
    "# Addestramento del modello Random Forest\n",
    "model = RandomForestClassifier(n_estimators=200, max_depth=100, class_weight='balanced', random_state=42)\n",
    "model.fit(X_train_selected, y_train)\n",
    "\n",
    "# Salva il modello\n",
    "joblib.dump(model, 'final_model.pkl')"
   ]
  },
  {
   "cell_type": "code",
   "execution_count": 41,
   "metadata": {},
   "outputs": [
    {
     "name": "stdout",
     "output_type": "stream",
     "text": [
      "Feature selezionate: ['Epoca_TC', 'Area_grasso_periviscerale', 'GS_alla_diagnosi', 'TNM_alla_diagnosi', 'Eta_alla_RP', 'GLCM3_entropy_-1_0_-1', 'GLCM3_inverse_1_-1_0', 'GLCM3_entropy_1_0_-1', 'GLCM3_autocorrelation_1_0_1', 'LBP_TOP_range']\n"
     ]
    }
   ],
   "source": [
    "# Mostra le feature selezionate\n",
    "selected_features = X.columns[selector.get_support()]\n",
    "print(\"Feature selezionate:\", selected_features.tolist())"
   ]
  },
  {
   "cell_type": "code",
   "execution_count": 42,
   "metadata": {},
   "outputs": [
    {
     "name": "stdout",
     "output_type": "stream",
     "text": [
      "\n",
      "Valutazione sul Validation Set:\n",
      "              precision    recall  f1-score   support\n",
      "\n",
      "           0       0.33      0.20      0.25         5\n",
      "           1       0.56      0.71      0.62         7\n",
      "\n",
      "    accuracy                           0.50        12\n",
      "   macro avg       0.44      0.46      0.44        12\n",
      "weighted avg       0.46      0.50      0.47        12\n",
      "\n",
      "\n",
      "Matrice di confusione sul Validation Set:\n",
      "[[1 4]\n",
      " [2 5]]\n"
     ]
    }
   ],
   "source": [
    "# Valutazione sul Validation set\n",
    "y_val_pred = model.predict(X_val_selected)\n",
    "\n",
    "print(\"\\nValutazione sul Validation Set:\")\n",
    "print(classification_report(y_val, y_val_pred))\n",
    "print(\"\\nMatrice di confusione sul Validation Set:\")\n",
    "print(confusion_matrix(y_val, y_val_pred))"
   ]
  },
  {
   "cell_type": "code",
   "execution_count": 43,
   "metadata": {},
   "outputs": [
    {
     "name": "stdout",
     "output_type": "stream",
     "text": [
      "\n",
      "Valutazione sul Test Set:\n",
      "              precision    recall  f1-score   support\n",
      "\n",
      "           0       0.40      0.40      0.40         5\n",
      "           1       0.57      0.57      0.57         7\n",
      "\n",
      "    accuracy                           0.50        12\n",
      "   macro avg       0.49      0.49      0.49        12\n",
      "weighted avg       0.50      0.50      0.50        12\n",
      "\n",
      "\n",
      "Matrice di confusione sul Test Set:\n",
      "[[2 3]\n",
      " [3 4]]\n"
     ]
    }
   ],
   "source": [
    "# Valutazione sul Test set\n",
    "y_test_pred = model.predict(X_test_selected)\n",
    "\n",
    "print(\"\\nValutazione sul Test Set:\")\n",
    "print(classification_report(y_test, y_test_pred))\n",
    "print(\"\\nMatrice di confusione sul Test Set:\")\n",
    "print(confusion_matrix(y_test, y_test_pred))"
   ]
  },
  {
   "cell_type": "code",
   "execution_count": 44,
   "metadata": {},
   "outputs": [
    {
     "name": "stdout",
     "output_type": "stream",
     "text": [
      "\n",
      "Metriche globali sul Test Set:\n",
      "Accuracy: 0.50\n",
      "Precision: 0.57\n",
      "Recall: 0.57\n",
      "F1-Score: 0.57\n"
     ]
    }
   ],
   "source": [
    "# Valutazione globale del modello\n",
    "accuracy = accuracy_score(y_test, y_test_pred)\n",
    "precision = precision_score(y_test, y_test_pred)\n",
    "recall = recall_score(y_test, y_test_pred)\n",
    "f1 = f1_score(y_test, y_test_pred)\n",
    "\n",
    "print(\"\\nMetriche globali sul Test Set:\")\n",
    "print(f\"Accuracy: {accuracy:.2f}\")\n",
    "print(f\"Precision: {precision:.2f}\")\n",
    "print(f\"Recall: {recall:.2f}\")\n",
    "print(f\"F1-Score: {f1:.2f}\")"
   ]
  },
  {
   "cell_type": "code",
   "execution_count": 45,
   "metadata": {},
   "outputs": [
    {
     "name": "stdout",
     "output_type": "stream",
     "text": [
      "\n",
      "Cross-Validation Scores (Accuracy): [0.  0.  0.  1.  0.5]\n",
      "Mean Accuracy: 0.30\n",
      "Standard Deviation: 0.40\n"
     ]
    }
   ],
   "source": [
    "# Cross-Validation (solo sul Validation set)\n",
    "cv_scores = cross_val_score(model, X_val_selected, y_val, cv=5, scoring='accuracy')\n",
    "\n",
    "print(\"\\nCross-Validation Scores (Accuracy):\", cv_scores)\n",
    "print(f\"Mean Accuracy: {cv_scores.mean():.2f}\")\n",
    "print(f\"Standard Deviation: {cv_scores.std():.2f}\")"
   ]
  },
  {
   "cell_type": "code",
   "execution_count": 46,
   "metadata": {},
   "outputs": [],
   "source": [
    "# Funzione per testare tutti i dati nel test set\n",
    "def test_full_test_set():\n",
    "    # Trasforma il test set con il selettore di feature\n",
    "    X_test_selected = selector.transform(X_test)\n",
    "\n",
    "    # Predizioni sul test set\n",
    "    predictions = model.predict(X_test_selected)\n",
    "\n",
    "    # Confronto con i valori reali\n",
    "    correct_predictions = (y_test == predictions).sum()\n",
    "    total_predictions = len(y_test)\n",
    "    accuracy_on_test = correct_predictions / total_predictions\n",
    "\n",
    "    print(\"\\nRisultati sui dati di Test Set:\")\n",
    "    for i, pred in enumerate(predictions):\n",
    "        print(f\"Esempio {i+1}: {'Recidiva' if pred == 1 else 'Non Recidiva'} (Reale: {'Recidiva' if y_test.iloc[i] == 1 else 'Non Recidiva'})\")\n",
    "\n",
    "    print(f\"\\nNumero di predizioni corrette: {correct_predictions}\")\n",
    "    print(f\"Totale predizioni: {total_predictions}\")\n",
    "    print(f\"Accuracy sul Test Set: {accuracy_on_test:.2f}\")\n"
   ]
  },
  {
   "cell_type": "code",
   "execution_count": 47,
   "metadata": {},
   "outputs": [
    {
     "name": "stdout",
     "output_type": "stream",
     "text": [
      "\n",
      "Risultati sui dati di Test Set:\n",
      "Esempio 1: Recidiva (Reale: Non Recidiva)\n",
      "Esempio 2: Recidiva (Reale: Recidiva)\n",
      "Esempio 3: Recidiva (Reale: Recidiva)\n",
      "Esempio 4: Recidiva (Reale: Recidiva)\n",
      "Esempio 5: Recidiva (Reale: Non Recidiva)\n",
      "Esempio 6: Recidiva (Reale: Recidiva)\n",
      "Esempio 7: Recidiva (Reale: Non Recidiva)\n",
      "Esempio 8: Non Recidiva (Reale: Recidiva)\n",
      "Esempio 9: Non Recidiva (Reale: Non Recidiva)\n",
      "Esempio 10: Non Recidiva (Reale: Recidiva)\n",
      "Esempio 11: Non Recidiva (Reale: Non Recidiva)\n",
      "Esempio 12: Non Recidiva (Reale: Recidiva)\n",
      "\n",
      "Numero di predizioni corrette: 6\n",
      "Totale predizioni: 12\n",
      "Accuracy sul Test Set: 0.50\n"
     ]
    }
   ],
   "source": [
    "test_full_test_set()\n"
   ]
  }
 ],
 "metadata": {
  "kernelspec": {
   "display_name": "NYC",
   "language": "python",
   "name": "python3"
  },
  "language_info": {
   "codemirror_mode": {
    "name": "ipython",
    "version": 3
   },
   "file_extension": ".py",
   "mimetype": "text/x-python",
   "name": "python",
   "nbconvert_exporter": "python",
   "pygments_lexer": "ipython3",
   "version": "3.9.15"
  }
 },
 "nbformat": 4,
 "nbformat_minor": 2
}
